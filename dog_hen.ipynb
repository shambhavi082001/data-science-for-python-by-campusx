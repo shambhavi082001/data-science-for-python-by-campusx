{
 "cells": [
  {
   "attachments": {},
   "cell_type": "markdown",
   "metadata": {},
   "source": [
    "1. write a program in python that will tell the number of dogs and chickens are there when he user will provide the value of total heads and legs"
   ]
  },
  {
   "cell_type": "code",
   "execution_count": 1,
   "metadata": {},
   "outputs": [
    {
     "name": "stdout",
     "output_type": "stream",
     "text": [
      "there are 11 chickens and -3 dogs\n"
     ]
    }
   ],
   "source": [
    "heads = int(input())\n",
    "legs = int(input())\n",
    "num_chickens = (4*heads-legs)//2\n",
    "num_dogs = (heads-num_chickens)\n",
    "print(f\"there are {num_chickens} chickens and {num_dogs} dogs\")"
   ]
  },
  {
   "cell_type": "code",
   "execution_count": 9,
   "metadata": {},
   "outputs": [
    {
     "name": "stdout",
     "output_type": "stream",
     "text": [
      "There are 0 dogs and 10 chickens.\n"
     ]
    }
   ],
   "source": [
    "# Ask the user for input\n",
    "num_heads = int(input(\"Enter the number of heads: \"))\n",
    "num_legs = int(input(\"Enter the number of legs: \"))\n",
    "\n",
    "# Calculate the number of chickens using the number of heads and legs\n",
    "num_chickens = (4 * num_heads - num_legs) // 2\n",
    "\n",
    "# Calculate the number of dogs using the number of heads and the number of chickens\n",
    "num_dogs = num_heads - num_chickens\n",
    "\n",
    "# Print the number of dogs and chickens\n",
    "print(f\"There are {num_dogs} dogs and {num_chickens} chickens.\")"
   ]
  },
  {
   "attachments": {},
   "cell_type": "markdown",
   "metadata": {},
   "source": [
    "2. wap to find the sum of square of first n natural numbers where n will be provided by the user"
   ]
  },
  {
   "cell_type": "code",
   "execution_count": 8,
   "metadata": {},
   "outputs": [
    {
     "name": "stdout",
     "output_type": "stream",
     "text": [
      "sum of square of first 20 natural numbers is 3080.0\n"
     ]
    }
   ],
   "source": [
    "# sum of square of first n natural numbers\n",
    "# n(n+1)(2n+1)/6+n(n+1)/2\n",
    "n = int(input(\"enter a value for n: \"))\n",
    "\n",
    "sum_of_squares = n * (n + 1) * (2 * n + 1) / 6\n",
    "sum_of_numbers = n * (n + 1) / 2\n",
    "results = sum_of_squares+sum_of_numbers\n",
    "print(f\"sum of square of first {n} natural numbers is {results}\")\n"
   ]
  },
  {
   "attachments": {},
   "cell_type": "markdown",
   "metadata": {},
   "source": [
    "3. find the sum of 3 digit number entered by user"
   ]
  },
  {
   "cell_type": "code",
   "execution_count": 21,
   "metadata": {},
   "outputs": [
    {
     "name": "stdout",
     "output_type": "stream",
     "text": [
      "9\n"
     ]
    }
   ],
   "source": [
    "number = int(input(\"enter a 3 digit number\"))\n",
    "a = number%10\n",
    "number = number//10\n",
    "b = number%10\n",
    "number = number//10\n",
    "c = number%10\n",
    "print(a+b+c)"
   ]
  },
  {
   "attachments": {},
   "cell_type": "markdown",
   "metadata": {},
   "source": [
    "4. given two fractions, find the sum of those two fractions take the numerator and demnominator values of the fraction from the user"
   ]
  },
  {
   "cell_type": "code",
   "execution_count": 6,
   "metadata": {},
   "outputs": [
    {
     "name": "stdout",
     "output_type": "stream",
     "text": [
      "The sum of 4/3 and 15/4 is 19/12\n"
     ]
    }
   ],
   "source": [
    "# Take input from user for numerator and denominator of first fraction\n",
    "numerator1 = int(input(\"Enter numerator of the first fraction: \"))\n",
    "denominator1 = int(input(\"Enter denominator of the first fraction: \"))\n",
    "\n",
    "# Take input from user for numerator and denominator of second fraction\n",
    "numerator2 = int(input(\"Enter numerator of the second fraction: \"))\n",
    "denominator2 = int(input(\"Enter denominator of the second fraction: \"))\n",
    "\n",
    "# Find the lowest common multiple of the two denominators\n",
    "common_denominator = denominator1 * denominator2\n",
    "# Multiply the numerators by the appropriate factors to make the denominators equal\n",
    "numerator1 *= denominator2\n",
    "numerator2 *= denominator1\n",
    "# Add the two numerators\n",
    "numerator_sum = numerator1 + numerator2\n",
    "\n",
    "# Print the sum of the two fractions\n",
    "print(f\"The sum of {numerator1}/{denominator1} and {numerator2}/{denominator2} is {numerator_sum}/{common_denominator}\")"
   ]
  },
  {
   "cell_type": "code",
   "execution_count": 8,
   "metadata": {},
   "outputs": [
    {
     "name": "stdout",
     "output_type": "stream",
     "text": [
      "the sum of 4/3 and 15/4 is 19/12\n"
     ]
    }
   ],
   "source": [
    "numerator1 = int(input(\"first numerator\"))\n",
    "denominator1 = int(input(\"first denominator\"))\n",
    "numerator2 = int(input(\"second numerator\"))\n",
    "denominator2 = int(input(\"second denominator\"))\n",
    "\n",
    "numerator1 *= denominator2\n",
    "numerator2 *= denominator1\n",
    "\n",
    "common_denominator = denominator1*denominator2\n",
    "\n",
    "numerator_sum = numerator1+numerator2\n",
    "\n",
    "print(f\"the sum of {numerator1}/{denominator1} and {numerator2}/{denominator2} is {numerator_sum}/{common_denominator}\")\n",
    "\n"
   ]
  },
  {
   "attachments": {},
   "cell_type": "markdown",
   "metadata": {},
   "source": [
    "5. given the height ,width and breadth of a milk tank you have to find out many glasses of milk can be obtained? assumed all the inputs are provided by user.\n",
    "height = 20 cm\n",
    "width = 20 cm\n",
    "breadth = 20 cm\n",
    "dimension of glass = hight = 3cm, r = 1cm"
   ]
  },
  {
   "cell_type": "code",
   "execution_count": 10,
   "metadata": {},
   "outputs": [
    {
     "name": "stdout",
     "output_type": "stream",
     "text": [
      "849.2569002123142\n"
     ]
    }
   ],
   "source": [
    "height = 20\n",
    "width = 20 \n",
    "breadth = 20 \n",
    "glass_hieght = 3\n",
    "glass_radius = 1\n",
    "tank_volume = height*width*breadth\n",
    "glass_volume = 3.14 * 1*1 * 3\n",
    "num_glass = tank_volume/glass_volume\n",
    "print(num_glass)\n"
   ]
  },
  {
   "attachments": {},
   "cell_type": "markdown",
   "metadata": {},
   "source": [
    "6. write a programm to fine the simple interest when the value of principle, rate of interest and time period is provided by the user "
   ]
  },
  {
   "cell_type": "code",
   "execution_count": 11,
   "metadata": {},
   "outputs": [
    {
     "name": "stdout",
     "output_type": "stream",
     "text": [
      "60.0\n"
     ]
    }
   ],
   "source": [
    "#The formula for calculating simple interest (SI) is:\n",
    "#SI = (P * R * T) / 100\n",
    "principle = int(input())\n",
    "rate = int(input())\n",
    "time = int(input())\n",
    "simple_interest = (principle*rate*time)/100\n",
    "print(simple_interest)\n"
   ]
  },
  {
   "attachments": {},
   "cell_type": "markdown",
   "metadata": {},
   "source": [
    "7. write a programm to find out the euclidean distance between two coordinates. take both the coordinates from the user as an input\n",
    "where:\n",
    "\n",
    "d is the Euclidean distance between the two points\n",
    "sqrt is the square root function\n",
    "(x1, y1) and (x2, y2) are the coordinates of the two points"
   ]
  },
  {
   "cell_type": "code",
   "execution_count": 1,
   "metadata": {},
   "outputs": [
    {
     "name": "stdout",
     "output_type": "stream",
     "text": [
      "5\n"
     ]
    }
   ],
   "source": [
    "# d = sqrt((x2 - x1)^2 + (y2 - y1)^2)\n",
    "x1 = int(input())\n",
    "x2 = int(input())\n",
    "y1 = int(input())\n",
    "y2 = int(input())\n",
    "distance = ((x2-x1)^2 + (y2-y1)^2)^2\n",
    "print(distance)"
   ]
  },
  {
   "attachments": {},
   "cell_type": "markdown",
   "metadata": {},
   "source": [
    "8. take two numbers as an input from the user. write a programm to swap the numbers without using any special python syntax."
   ]
  },
  {
   "cell_type": "code",
   "execution_count": 2,
   "metadata": {},
   "outputs": [
    {
     "name": "stdout",
     "output_type": "stream",
     "text": [
      "2 1\n"
     ]
    }
   ],
   "source": [
    "a = int(input())\n",
    "b = int(input())\n",
    "a,b = b,a\n",
    "print(a,b)"
   ]
  },
  {
   "attachments": {},
   "cell_type": "markdown",
   "metadata": {},
   "source": [
    "9. given the first two terms of an airthmatic series. find the nth term of series. assume all inputs are provided by the user."
   ]
  },
  {
   "cell_type": "code",
   "execution_count": 8,
   "metadata": {},
   "outputs": [
    {
     "name": "stdout",
     "output_type": "stream",
     "text": [
      "14\n"
     ]
    }
   ],
   "source": [
    "# a_n = a_1 + (n - 1)d\n",
    "#For example, the 5th term of the sequence above can be found as:\n",
    "#a_5 = 2 + (5 - 1)3\n",
    "#a_5 = 2 + 12\n",
    "#a_5 = 14\n",
    "\n",
    "number = int(input(\" enter number \"))\n",
    "diffrence = int(input(\"enter difference\"))\n",
    "fisrt_term =  number - diffrence\n",
    "n_term = fisrt_term + (number - 1) * diffrence\n",
    "print(n_term)\n"
   ]
  },
  {
   "attachments": {},
   "cell_type": "markdown",
   "metadata": {},
   "source": [
    "# guessing game"
   ]
  },
  {
   "cell_type": "code",
   "execution_count": 13,
   "metadata": {},
   "outputs": [
    {
     "name": "stdout",
     "output_type": "stream",
     "text": [
      "guess lower\n",
      "wrong, guess higher\n",
      "guess lower\n",
      "guess lower\n",
      "guess lower\n",
      "wrong, guess higher\n",
      "wrong, guess higher\n",
      "correct guess\n",
      "attems 8\n"
     ]
    }
   ],
   "source": [
    "# generate a random integer between 1 and 100\n",
    "import random\n",
    "jackpot = random.randint(1,100)\n",
    "\n",
    "guess = int(input('guess karo'))\n",
    "counter = 1\n",
    "\n",
    "while guess != jackpot:\n",
    "\n",
    "    if guess < jackpot:\n",
    "        print('wrong, guess higher')\n",
    "    else:\n",
    "        print('guess lower')\n",
    "\n",
    "    guess = int(input('guess karo'))\n",
    "    counter+=1\n",
    "\n",
    "else:\n",
    "    print('correct guess')\n",
    "    print('attems', counter)\n"
   ]
  },
  {
   "attachments": {},
   "cell_type": "markdown",
   "metadata": {},
   "source": [
    "current population of a town is 10000. the popultion of town is increasing at the rate of 10% of per year. write a programm to find out the population at the end of each of the last 10 years."
   ]
  },
  {
   "cell_type": "code",
   "execution_count": 14,
   "metadata": {},
   "outputs": [
    {
     "name": "stdout",
     "output_type": "stream",
     "text": [
      "10 10000\n",
      "9 9000.0\n",
      "8 8100.0\n",
      "7 7290.0\n",
      "6 6561.0\n",
      "5 5904.9\n",
      "4 5314.41\n",
      "3 4782.969\n",
      "2 4304.6721\n",
      "1 3874.20489\n"
     ]
    }
   ],
   "source": [
    "curr_pop = 10000\n",
    "for i in range(10,0,-1):\n",
    "  print(i, curr_pop)\n",
    "  curr_pop = curr_pop - 0.1*curr_pop"
   ]
  },
  {
   "cell_type": "code",
   "execution_count": null,
   "metadata": {},
   "outputs": [],
   "source": []
  }
 ],
 "metadata": {
  "kernelspec": {
   "display_name": "base",
   "language": "python",
   "name": "python3"
  },
  "language_info": {
   "codemirror_mode": {
    "name": "ipython",
    "version": 3
   },
   "file_extension": ".py",
   "mimetype": "text/x-python",
   "name": "python",
   "nbconvert_exporter": "python",
   "pygments_lexer": "ipython3",
   "version": "3.9.13"
  },
  "orig_nbformat": 4,
  "vscode": {
   "interpreter": {
    "hash": "5c2e1fbdbc753133dbe82f78110374a46e694123620e9daffa43fa991124e895"
   }
  }
 },
 "nbformat": 4,
 "nbformat_minor": 2
}
