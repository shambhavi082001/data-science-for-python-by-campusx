{
 "cells": [
  {
   "attachments": {},
   "cell_type": "markdown",
   "metadata": {},
   "source": [
    "write a program that give you in hand monthly salary after deduction of CTC - HRA(10%), DA(5%), PF(3%) and taxes deduction as below\n",
    "salary(Lackhs): tax(%)\n",
    "1. below 5: 0%\n",
    "2. 5-10: 10%\n",
    "3. 10-20: 20%\n",
    "4. above 20: 30%"
   ]
  },
  {
   "cell_type": "code",
   "execution_count": 10,
   "metadata": {},
   "outputs": [
    {
     "ename": "TypeError",
     "evalue": "'int' object is not callable",
     "output_type": "error",
     "traceback": [
      "\u001b[1;31m---------------------------------------------------------------------------\u001b[0m",
      "\u001b[1;31mTypeError\u001b[0m                                 Traceback (most recent call last)",
      "\u001b[1;32mc:\\Users\\Shambhavi\\practice questions\\session2_que.ipynb Cell 1\u001b[0m in \u001b[0;36m<cell line: 2>\u001b[1;34m()\u001b[0m\n\u001b[0;32m      <a href='vscode-notebook-cell:/c%3A/Users/Shambhavi/practice%20questions/session2_que.ipynb#W0sZmlsZQ%3D%3D?line=0'>1</a>\u001b[0m ctc_anual\u001b[39m=\u001b[39m \u001b[39mint\u001b[39m(\u001b[39minput\u001b[39m())\n\u001b[1;32m----> <a href='vscode-notebook-cell:/c%3A/Users/Shambhavi/practice%20questions/session2_que.ipynb#W0sZmlsZQ%3D%3D?line=1'>2</a>\u001b[0m basic_salary \u001b[39m=\u001b[39m \u001b[39mint\u001b[39m(ctc_anual(\u001b[39m40\u001b[39;49m\u001b[39m*\u001b[39;49mctc_anual)\u001b[39m/\u001b[39m\u001b[39m100\u001b[39m)\n\u001b[0;32m      <a href='vscode-notebook-cell:/c%3A/Users/Shambhavi/practice%20questions/session2_que.ipynb#W0sZmlsZQ%3D%3D?line=2'>3</a>\u001b[0m hra \u001b[39m=\u001b[39m \u001b[39mint\u001b[39m(basic_salary\u001b[39m/\u001b[39m\u001b[39m10\u001b[39m)\n\u001b[0;32m      <a href='vscode-notebook-cell:/c%3A/Users/Shambhavi/practice%20questions/session2_que.ipynb#W0sZmlsZQ%3D%3D?line=3'>4</a>\u001b[0m da \u001b[39m=\u001b[39m \u001b[39mint\u001b[39m((\u001b[39m5\u001b[39m\u001b[39m*\u001b[39mbasic_salary)\u001b[39m/\u001b[39m\u001b[39m100\u001b[39m)\n",
      "\u001b[1;31mTypeError\u001b[0m: 'int' object is not callable"
     ]
    }
   ],
   "source": [
    "ctc_anual= int(input())\n",
    "basic_salary = int(ctc_anual(40*ctc_anual)/100)\n",
    "hra = int(basic_salary/10)\n",
    "da = int((5*basic_salary)/100)\n",
    "pf = int((3*basic_salary)/100)\n",
    "total_deduction = hra+da+pf\n",
    "gross_anual_salary = ctc_anual-total_deduction\n",
    "\n",
    "if gross_anual_salary in range(500000,1000000):\n",
    "    gross_anual_salary=int(gross_anual_salary/10)\n",
    "    print(\"you have to pay 10% tax\", gross_anual_salary)\n",
    "    monthly_salary = int(gross_anual_salary/12)\n",
    "    print(monthly_salary)\n",
    "\n",
    "elif gross_anual_salary in range(1000000,2000000):\n",
    "    gross_anual_salary=int(gross_anual_salary/20)\n",
    "    print(\"you have to pay 20% tax\",gross_anual_salary)\n",
    "    monthly_salary = int(gross_anual_salary/12)\n",
    "    print(monthly_salary)\n",
    "\n",
    "elif gross_anual_salary > 2000000:\n",
    "    gross_anual_salary=int(gross_anual_salary/30)\n",
    "    print(\"you have to pay 20% tax\",gross_anual_salary)\n",
    "    monthly_salary = int(gross_anual_salary/12)\n",
    "    print(monthly_salary)\n",
    "\n",
    "else:\n",
    "    print(\"you dont have to pay tax\",gross_anual_salary)\n",
    "    monthly_salary = int(gross_anual_salary/12)\n",
    "    print(monthly_salary)"
   ]
  },
  {
   "cell_type": "code",
   "execution_count": null,
   "metadata": {},
   "outputs": [],
   "source": [
    "anual_salary = 1000000\n",
    "hra = 0.1*anual_salary\n",
    "da = 0.01*anual_salary\n",
    "pf = 0.03*anual_salary\n",
    "total_deduction= hra+da+pf\n",
    "taxable_amount = anual_salary-total_deduction\n",
    "if taxable_amount\n"
   ]
  },
  {
   "attachments": {},
   "cell_type": "markdown",
   "metadata": {},
   "source": [
    "2. wap that take a input of three angles and find out wheather it can form a triangle or not"
   ]
  },
  {
   "cell_type": "code",
   "execution_count": 8,
   "metadata": {},
   "outputs": [
    {
     "name": "stdout",
     "output_type": "stream",
     "text": [
      "its triangle\n"
     ]
    }
   ],
   "source": [
    "angle1 = int(input())\n",
    "angle2 = int(input())\n",
    "angle3 = int(input())\n",
    "\n",
    "triangle = angle1+angle2+angle3\n",
    "if triangle == 180 and angle1 and angle2 and angle3 >0:\n",
    "    print(\"its triangle\")\n",
    "else:\n",
    "    print(\"its not triangle\")"
   ]
  },
  {
   "attachments": {},
   "cell_type": "markdown",
   "metadata": {},
   "source": [
    "3. wap that will take user input of cost price and selling price and determines whether its a loss or a profit"
   ]
  },
  {
   "cell_type": "code",
   "execution_count": 10,
   "metadata": {},
   "outputs": [
    {
     "name": "stdout",
     "output_type": "stream",
     "text": [
      "its a profit\n"
     ]
    }
   ],
   "source": [
    "cost_price = int(input())\n",
    "selling_price = int(input())\n",
    "if selling_price<cost_price:\n",
    "    print(\"its a profit\")\n",
    "else:\n",
    "    print(\"its a loss\")"
   ]
  },
  {
   "attachments": {},
   "cell_type": "markdown",
   "metadata": {},
   "source": [
    "4. find the factorial of a given number\n",
    "use the loop to find the factorial of a given number "
   ]
  },
  {
   "cell_type": "code",
   "execution_count": 22,
   "metadata": {},
   "outputs": [
    {
     "name": "stdout",
     "output_type": "stream",
     "text": [
      "the factorial of 0 is 120\n"
     ]
    }
   ],
   "source": [
    "n = int(input(\"enter a number\"))\n",
    "result = 1\n",
    "while n>0:\n",
    "    result = result*n\n",
    "    n = n-1\n",
    "print(\"the factorial of\", n, \"is\", result)"
   ]
  },
  {
   "cell_type": "code",
   "execution_count": 23,
   "metadata": {},
   "outputs": [
    {
     "name": "stdout",
     "output_type": "stream",
     "text": [
      "the factorial of 5 is 120\n"
     ]
    }
   ],
   "source": [
    "n = int(input())\n",
    "result = 1\n",
    "for i in range(1, n+1):\n",
    "    result*=i\n",
    "print(\"the factorial of\", n, \"is\", result)"
   ]
  },
  {
   "attachments": {},
   "cell_type": "markdown",
   "metadata": {},
   "source": [
    "5. reverse a given integer number"
   ]
  },
  {
   "cell_type": "code",
   "execution_count": null,
   "metadata": {},
   "outputs": [],
   "source": [
    "number = 765432\n",
    "reverse = 0\n",
    "while number!=0:\n",
    "    reverse%10\n",
    "    "
   ]
  },
  {
   "cell_type": "code",
   "execution_count": 5,
   "metadata": {},
   "outputs": [
    {
     "name": "stdout",
     "output_type": "stream",
     "text": [
      "The reverse of 0 is 5\n"
     ]
    }
   ],
   "source": [
    "n = int(input(\"Enter a number: \"))\n",
    "reverse = 0\n",
    "while n > 0:\n",
    "    last_digit = n % 10\n",
    "    reverse = reverse * 10 + last_digit\n",
    "    n = n // 10\n",
    "print(\"The reverse of\", n, \"is\", reverse)"
   ]
  },
  {
   "attachments": {},
   "cell_type": "markdown",
   "metadata": {},
   "source": [
    "6. take a user input as integer n. find sum from 1 to n. if any number is divisble by 5 skip that number and if the sum is greater than 300, dont need to calculate the sum furthner more. print the final result. and dont use for loop to solve this "
   ]
  },
  {
   "cell_type": "code",
   "execution_count": null,
   "metadata": {},
   "outputs": [],
   "source": [
    "n = int(input())\n"
   ]
  }
 ],
 "metadata": {
  "kernelspec": {
   "display_name": "base",
   "language": "python",
   "name": "python3"
  },
  "language_info": {
   "codemirror_mode": {
    "name": "ipython",
    "version": 3
   },
   "file_extension": ".py",
   "mimetype": "text/x-python",
   "name": "python",
   "nbconvert_exporter": "python",
   "pygments_lexer": "ipython3",
   "version": "3.9.13"
  },
  "orig_nbformat": 4,
  "vscode": {
   "interpreter": {
    "hash": "5c2e1fbdbc753133dbe82f78110374a46e694123620e9daffa43fa991124e895"
   }
  }
 },
 "nbformat": 4,
 "nbformat_minor": 2
}
